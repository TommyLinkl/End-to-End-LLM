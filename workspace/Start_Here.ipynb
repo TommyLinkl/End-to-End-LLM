{
 "cells": [
  {
   "cell_type": "markdown",
   "id": "83941f71",
   "metadata": {},
   "source": [
    "# End-To-End NLP: Question Answering \n",
    "\n",
    "---"
   ]
  },
  {
   "cell_type": "markdown",
   "id": "5eb13a29",
   "metadata": {},
   "source": [
    "## Overview  \n",
    "\n",
    "End-to-End NLP material is designed from a real-world perspective that follows Data processing, development, and deployment pipeline paradigm. The material consist of three labs and the goal is to walk you through the a single flow of raw text `data preprocessing` and how to build a SQuAD dataset format for Question Answering, train the dataset via `NVIDIA TAO` transfer learning BERT model, and deploy using `RIVA`. Furthermore, a challenge notebook is introduced to test your understanding of the material and solidify your experience in the Question Answering (QA) domain.\n",
    "\n",
    "### Why End-to-End NLP?\n",
    "\n",
    "Solving real-world problem in AI domain requires the use of set of tools (software stacks and frameworks) and the solution process always follows the `data processing`, `development`, and `deployment` pattern. This material is to:\n",
    "- assist AI hackathon participants to learn and apply the knowledge to solve their task using NVIDIA software stacks and frameworks\n",
    "- enables bootcamp attendees to solve real-world problem using end-to-end approach (data processing --> development --> deployment)\n"
   ]
  },
  {
   "cell_type": "markdown",
   "id": "3f573b03",
   "metadata": {},
   "source": [
    "### Implementation Architecture\n",
    "The architecture implementation components include:\n",
    "- Data preprocessing phase\n",
    "- TAO training using QA model\n",
    "- RIVA deployment\n"
   ]
  },
  {
   "cell_type": "markdown",
   "id": "ce065af5-b2f5-4d5b-81bc-1de588615894",
   "metadata": {},
   "source": [
    "<img src=\"jupyter_notebook/images/end-to-end-arch.jpg\" width=\"700px\" height=\"700px\"/>"
   ]
  },
  {
   "cell_type": "markdown",
   "id": "0455b04b-98b6-4d6c-b812-f86f47cfee1e",
   "metadata": {},
   "source": [
    "### Application Flow\n",
    "The application flow is as follows:\n",
    "- prepare your question speech/audio\n",
    "- The question serves as input into the Speech-To-Text (STT)  Automatic Speech Recognition Model (ASR) that transcribe the speech into text \n",
    "- The output text from STT model is then passed to the NLP model to infer answer in text format. The text answer serves as input into the Text-to-speech (TTS) model \n",
    "- Finally, the TTS model synthesize the answer transcript into audio speech \n"
   ]
  },
  {
   "cell_type": "markdown",
   "id": "ea1ebec1-4a2b-445c-a201-5c92a75446fc",
   "metadata": {},
   "source": [
    "<img src=\"jupyter_notebook/images/application-flow.jpg\" width=\"700px\" height=\"700px\"/>"
   ]
  },
  {
   "cell_type": "markdown",
   "id": "21b64e16-465b-4e19-a6d6-e2713af4a112",
   "metadata": {},
   "source": [
    "The table of content below will walk you through the QA data processing phase of `End-to-End approach to NLP`, and the Exercise included will test your understanding of the concept."
   ]
  },
  {
   "cell_type": "markdown",
   "id": "59272c6a",
   "metadata": {},
   "source": [
    "### Table of Content\n",
    "\n",
    "The following contents will be covered:\n",
    "1. Data preprocessing\n",
    "    1. [Overview of QA Dataset](jupyter_notebook/Overview.ipynb)\n",
    "        1. [Introduction to QA](jupyter_notebook/Overview.ipynb#Introduction-to-NLP-Question-Answering-System)\n",
    "        1. [Brief on QA Dataset](jupyter_notebook/Overview.ipynb#Brief-on-QA-Dataset)\n",
    "    1. [Common Preprocessing Techniques for Raw Text Data](jupyter_notebook/General_preprocessing.ipynb)\n",
    "    1. [QA Text Data preprocessing](jupyter_notebook/QandA_data_processing.ipynb)\n",
    "        1. [SQuAD Dataset Structural Format](jupyter_notebook/QandA_data_processing.ipynb#SQUAD)\n",
    "        1. [Text Data Source](jupyter_notebook/QandA_data_processing.ipynb#Text-Data-Source)    \n",
    "        1. [Mannual QA Extraction](jupyter_notebook/QandA_data_processing.ipynb#Mannual-QA-Extraction)\n",
    "        1. [Automatic QA Generation with T5 model](jupyter_notebook/QandA_data_processing.ipynb#Automatic-QA-Generation-with-T5-base-model)\n",
    "    1. [Exercise](jupyter_notebook/Exercise.ipynb)\n",
    "    1. [Summary](jupyter_notebook/Summary.ipynb)\n",
    "1. Development\n",
    "    1. [Transfer learning with NVIDIA TAO](jupyter_notebook/question-answering-training.ipynb)\n",
    "1. Deployment\n",
    "   1. [RIVA Deployment](jupyter_notebook/qa-riva-deployment.ipynb) \n",
    "1. [Challenge](jupyter_notebook/challenge.ipynb)\n"
   ]
  },
  {
   "cell_type": "markdown",
   "id": "331a21b7",
   "metadata": {},
   "source": [
    "### Check your GPU\n",
    "\n",
    "Let's execute the cell below to display information about the CUDA driver and GPUs running on the server by running the nvidia-smi command. To do this, execute the cell block below by giving it focus (clicking on it with your mouse), and hitting `Ctrl-Enter`, or pressing the play button in the toolbar above. If all goes well, you should see some output returned below the grey cell."
   ]
  },
  {
   "cell_type": "code",
   "execution_count": null,
   "id": "9f17d5a5-72d6-486a-8704-da372123160c",
   "metadata": {},
   "outputs": [],
   "source": [
    "!nvidia-smi"
   ]
  },
  {
   "cell_type": "markdown",
   "id": "3585f83f-9587-4bd7-ae70-0057210b77f3",
   "metadata": {},
   "source": [
    "### Tutorial Duration\n",
    "\n",
    "The material will be presented 2 labs in a total of 8hrs session as follows:\n",
    "- Data preprocessing Lab: `3hrs: 30mins`\n",
    "- Development & Deployment : `4hrs: 30mins`"
   ]
  },
  {
   "cell_type": "markdown",
   "id": "c5a1d722-5738-47e2-a681-448825d19f13",
   "metadata": {},
   "source": [
    "### Content Level\n",
    "Beginner to Advanced\n",
    "\n",
    "### Target Audience and Prerequisites\n",
    "The target audience for this labs are researchers, graduate students, and developers who are interested in End-to-End approach to solving NLP task via the use of GPUs. Audience are expected to have Python programming background Knowledge and and possess NVIDIA ngc key.\n"
   ]
  },
  {
   "cell_type": "markdown",
   "id": "87c47a57",
   "metadata": {},
   "source": [
    "---\n",
    "## Licensing\n",
    "\n",
    "Copyright © 2022 OpenACC-Standard.org. This material is released by OpenACC-Standard.org, in collaboration with NVIDIA Corporation, under the Creative Commons Attribution 4.0 International (CC BY 4.0). These materials include references to hardware and software developed by other entities; all applicable licensing and copyrights apply."
   ]
  }
 ],
 "metadata": {
  "kernelspec": {
   "display_name": "Python 3",
   "language": "python",
   "name": "python3"
  },
  "language_info": {
   "codemirror_mode": {
    "name": "ipython",
    "version": 3
   },
   "file_extension": ".py",
   "mimetype": "text/x-python",
   "name": "python",
   "nbconvert_exporter": "python",
   "pygments_lexer": "ipython3",
   "version": "3.8.8"
  }
 },
 "nbformat": 4,
 "nbformat_minor": 5
}
