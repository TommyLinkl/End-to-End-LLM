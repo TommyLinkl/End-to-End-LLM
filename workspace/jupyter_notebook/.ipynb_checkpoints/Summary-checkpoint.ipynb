{
 "cells": [
  {
   "cell_type": "markdown",
   "id": "8ef7ec69-73b2-4e57-86c0-846b2cc713e3",
   "metadata": {},
   "source": [
    "<p> <center> <a href=\"../Start_Here.ipynb\">Home Page</a> </center> </p>\n",
    "\n",
    " <div>\n",
    "    <span style=\"float: left; width: 33%; text-align: left;\"><a href=\"QandA_data_processing.ipynb\">Previous Notebook</a></span>\n",
    "    <span style=\"float: left; width: 33%; text-align: center;\">\n",
    "        <a href=\"Overview.ipynb\">1</a>\n",
    "        <a href=\"General_preprocessing.ipynb\">2</a>\n",
    "        <a href=\"QandA_data_processing.ipynb\">3</a>\n",
    "        <a href=\"Exercise.ipynb\">4</a>\n",
    "        <a>5</a>\n",
    "    </span>\n",
    "    \n",
    "</div>"
   ]
  },
  {
   "cell_type": "markdown",
   "id": "8aa58c15-0831-4be1-b217-2cfbfe7c6d81",
   "metadata": {},
   "source": [
    "## Summary\n",
    "\n",
    "In the previous notebooks you learnt about:\n",
    "\n",
    "-  major large scale QA datasets and their internal structure format\n",
    "-  common Preprocessing Techniques for raw text data\n",
    "-  SQuAD dataset structural format and how to preprocess text data\n",
    "-  sources of text data\n",
    "-  how to Mannually extract Question Answering\n",
    "-  automatic Question Answering generation\n",
    "\n",
    "Going forward, we hope you can apply the techniques learnt to preprocess text data for your personal task. "
   ]
  },
  {
   "cell_type": "markdown",
   "id": "697c4fa5-6059-4dde-a412-cd64bb5c632d",
   "metadata": {},
   "source": [
    "---\n",
    "In the next lab, you will learn how to train SQuAD format Question Answering dataset using transfer learning with NVIDIA TAO. Please click on the `Start Next Lab` link below to get started.\n",
    "\n",
    "## <center><div style=\"text-align:center; color:#FF0000; border:3px solid red;height:80px;\"> <b><br/> [Start Next Lab](question-answering-training.ipynb) </b> </div></center>\n",
    "\n",
    "---\n",
    "\n"
   ]
  },
  {
   "cell_type": "markdown",
   "id": "83941f71",
   "metadata": {},
   "source": [
    "# References\n",
    "\n",
    "---"
   ]
  },
  {
   "cell_type": "markdown",
   "id": "5eb13a29",
   "metadata": {},
   "source": [
    "1. https://huggingface.co/tasks/question-answering\n",
    "1. https://rajpurkar.github.io/SQuAD-explorer/\n",
    "1. https://analyticsindiamag.com/10-question-answering-datasets-to-build-robust-chatbot-systems/\n",
    "1. https://www.kaggle.com/code/tosin01/squad-stanford-q-a-json-to-pandas-dataframe/edit\n",
    "1. https://github.com/ad-freiburg/large-qa-datasets"
   ]
  },
  {
   "cell_type": "markdown",
   "id": "960e3b4f",
   "metadata": {},
   "source": [
    "---\n",
    "## Licensing\n",
    "\n",
    "Copyright © 2022 OpenACC-Standard.org. This material is released by OpenACC-Standard.org, in collaboration with NVIDIA Corporation, under the Creative Commons Attribution 4.0 International (CC BY 4.0). These materials include references to hardware and software developed by other entities; all applicable licensing and copyrights apply."
   ]
  },
  {
   "cell_type": "markdown",
   "id": "29ae871d-44f5-4863-be31-bb2b0eda5ead",
   "metadata": {},
   "source": [
    "<div>\n",
    "    <span style=\"float: left; width: 33%; text-align: left;\"><a href=\"QandA_data_processing.ipynb\">Previous Notebook</a></span>\n",
    "    <span style=\"float: left; width: 33%; text-align: center;\">\n",
    "        <a href=\"Overview.ipynb\">1</a>\n",
    "        <a href=\"General_preprocessing.ipynb\">2</a>\n",
    "        <a href=\"QandA_data_processing.ipynb\">3</a>\n",
    "        <a href=\"Exercise.ipynb\">4</a>\n",
    "        <a >5</a>\n",
    "    </span>\n",
    "</div>\n",
    "\n",
    "<p> <center> <a href=\"../Start_Here.ipynb\">Home Page</a> </center> </p>"
   ]
  }
 ],
 "metadata": {
  "kernelspec": {
   "display_name": "Python 3",
   "language": "python",
   "name": "python3"
  },
  "language_info": {
   "codemirror_mode": {
    "name": "ipython",
    "version": 3
   },
   "file_extension": ".py",
   "mimetype": "text/x-python",
   "name": "python",
   "nbconvert_exporter": "python",
   "pygments_lexer": "ipython3",
   "version": "3.8.8"
  }
 },
 "nbformat": 4,
 "nbformat_minor": 5
}
