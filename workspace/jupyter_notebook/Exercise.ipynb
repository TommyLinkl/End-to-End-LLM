{
 "cells": [
  {
   "cell_type": "markdown",
   "id": "919000c2",
   "metadata": {},
   "source": [
    "<p> <center> <a href=\"../Start_Here.ipynb\">Home Page</a> </center> </p>\n",
    "\n",
    " <div>\n",
    "    <span style=\"float: left; width: 33%; text-align: left;\"><a href=\"QandA_data_processing.ipynb\">Previous Notebook</a></span>\n",
    "    <span style=\"float: left; width: 33%; text-align: center;\">\n",
    "        <a href=\"Overview.ipynb\">1</a>\n",
    "        <a href=\"General_preprocessing.ipynb\">2</a>\n",
    "        <a href=\"QandA_data_processing.ipynb\">3</a>\n",
    "        <a >4</a>\n",
    "        <a href=\"Summary.ipynb\">5</a>\n",
    "    </span>\n",
    "    <span style=\"float: left; width: 33%; text-align: right;\"><a href=\"Summary.ipynb\">Next Notebook</a></span>\n",
    "</div>"
   ]
  },
  {
   "cell_type": "markdown",
   "id": "83941f71",
   "metadata": {},
   "source": [
    "# Exercise\n",
    "\n",
    "---"
   ]
  },
  {
   "cell_type": "markdown",
   "id": "5eb13a29",
   "metadata": {},
   "source": [
    "## Goal\n",
    "The goal of this exercise is to enable you apply techniques learnt in the previous labs in a single pipeline to generate a SQuAD json format question answering dataset from text data, thus, solidifying your understanding.\n"
   ]
  },
  {
   "cell_type": "markdown",
   "id": "a54108d3",
   "metadata": {},
   "source": [
    "## Data \n",
    "\n",
    "Our sample data are from two different sources and would cover two topics namely ecommerce and climate change. The ecommerce was sourced from [keggle](https://www.kaggle.com/datasets/cclark/product-item-data) and it contains 500 actual SKUs(stock keeping units) from an outdoor apparel brand's product catalog. The climate change was sourced from [researchgate](https://www.researchgate.net/publication/311301385_Climate_Change) authored by `Chris Riedy`.\n"
   ]
  },
  {
   "cell_type": "markdown",
   "id": "f5d1aa6c",
   "metadata": {},
   "source": [
    "### Exercise 1"
   ]
  },
  {
   "cell_type": "markdown",
   "id": "df66be10",
   "metadata": {},
   "source": [
    "**Load CSV file and display text**"
   ]
  },
  {
   "cell_type": "code",
   "execution_count": null,
   "id": "58945ea1",
   "metadata": {
    "tags": []
   },
   "outputs": [],
   "source": [
    "import numpy as np\n",
    "import pandas as pd\n",
    "import re\n",
    "import string\n",
    "#import cudf as df\n",
    "\n",
    "path = '../source_code/data/ecommerce.csv'\n",
    "cv_file = pd.read_csv( ) # add path \n",
    "\n",
    "cv_file\n",
    "for row in cv_file['description']:\n",
    "    print(row)\n"
   ]
  },
  {
   "cell_type": "markdown",
   "id": "c913e059",
   "metadata": {},
   "source": [
    "**Removal of HTML tags and unwanted characters** "
   ]
  },
  {
   "cell_type": "code",
   "execution_count": null,
   "id": "dfb7231b",
   "metadata": {},
   "outputs": [],
   "source": [
    "# you are free to modify the entire code in this cell\n",
    "\n",
    "html_reg_exp = re.compile('<.*?>')\n",
    "\n",
    "context = []\n",
    "for row in cv_file['description']:\n",
    "    _context = html_reg_exp.sub( , row) #add r'' to this line such as: (r'', row)\n",
    "    context.append(_context)\n",
    "      \n",
    "cv_file['description'] = context \n",
    "cv_file['description'][0]"
   ]
  },
  {
   "cell_type": "code",
   "execution_count": null,
   "id": "2481247d",
   "metadata": {},
   "outputs": [],
   "source": [
    "##(optional) apply other preprocessing techniques to remove unwanted characters or symbols\n",
    "\n"
   ]
  },
  {
   "cell_type": "markdown",
   "id": "363502a8",
   "metadata": {},
   "source": [
    "**Save the processed data in CSV file as `ecommerce_1.csv`**"
   ]
  },
  {
   "cell_type": "code",
   "execution_count": null,
   "id": "14f20073",
   "metadata": {},
   "outputs": [],
   "source": [
    "## write back to ecommerce_1.csv\n",
    "\n",
    "save_path = '../source_code/data/ '  #complete the path\n",
    "cv_file.to_csv(save_path, index=False)\n",
    "\n",
    "#cv_file.head()"
   ]
  },
  {
   "cell_type": "markdown",
   "id": "184f05b8",
   "metadata": {},
   "source": [
    "### Exercise 2\n",
    "\n",
    "You are to follow the list of steps highlighted below to complete the exercise."
   ]
  },
  {
   "cell_type": "markdown",
   "id": "331a21b7",
   "metadata": {},
   "source": [
    "### Step 1\n",
    "\n",
    "- Download/open the [ecommerce_1.csv](../source_code/data/ecommerce.csv) at `source_code/data/ecommerce.csv` and [climate change](../source_code/data/Climatechange.docx) at `source_code/data/Climatechange.docx` document\n",
    "- create two excel file named `exercise.xlsx` and `exercise.csv`\n",
    "- In the `exercise.xlsx`, create three sheets (Sheet0, Sheet1, Sheet2)\n",
    "- In `Sheet0`, create two columns (tid, title) and insert two rows as (1, ecommerce), (2, climate change) for tid and title respectively  \n",
    "- In `Sheet1`, create three columns (tid, cid, and context). please refer to `On-Code SQuAD Format QA dataset Generation` section in `Lab 3`\n",
    "- Manually Extract <u>10 contexts</u> from the each files to complete a total of 20 contexts having `cid` numbering from 1-20 and tid as 1 or 2 according to the title `tid` mapping.\n",
    "- Create four columns in `Sheet2` (tid, cid, question, answer). Extract 2 questions and answers (QA) from each context in `Sheet1` and insert into question and answer columns in `Sheet2`. Also copy the corresponding tid & cid of the context where the QA was extracted and paste into `Sheet2` as shown in `Lab 3`\n"
   ]
  },
  {
   "cell_type": "markdown",
   "id": "3a6a4c3a",
   "metadata": {},
   "source": [
    "### Step 2\n",
    "\n",
    "- In the `exercise.csv` create a single column named `document_text`.\n",
    "- Copy all the context from `Sheet1` in `exercise.xlsx` and paste under the `document_text` in `exercise.csv` as shown in `No Code SQuAD Format QA dataset Generation with Haystack` section in `Lab 3`  \n",
    "- Copy both files (`exercise.xlsx` and `exercise.csv`) and paste in `../source_code/data/` directory\n"
   ]
  },
  {
   "cell_type": "markdown",
   "id": "59272c6a",
   "metadata": {},
   "source": [
    "### Exercise 3\n",
    "\n",
    "- Generate `SQuAD` json dataset format called `exercise.json`  from `exercise.xlsx` by modifying the code cell below. You can recall to `Lab 3`.  \n"
   ]
  },
  {
   "cell_type": "code",
   "execution_count": null,
   "id": "8f5b188b",
   "metadata": {},
   "outputs": [],
   "source": [
    "# You are free to rewrite your own code\n",
    "import json\n",
    "import csv\n",
    "import re, os\n",
    "import pandas as pd\n",
    "\n",
    "class MakeDataset():\n",
    "    def __init__(self, path):\n",
    "        self.Path = path\n",
    "        self.final_json = {}\n",
    "        self.final_json['version'] = \"v2.0\"\n",
    "        self.final_json['data'] = []      \n",
    "    \n",
    "    # modify this method\n",
    "    def csv_reader(self):\n",
    "        xls = pd.ExcelFile(self.Path)\n",
    "        self.Title = \n",
    "        self.Context = \n",
    "        self.QandA   =\n",
    "        \n",
    "        \n",
    "    def get_loc(self, answer, content):\n",
    "        loc = re.search(answer.lower(), content.lower())\n",
    "        if loc is None:\n",
    "            return -1\n",
    "        else:\n",
    "            return loc.span()[0]\n",
    "        \n",
    "     #modify this model   \n",
    "    def make_json(self):\n",
    "        qid = 1\n",
    "        for i in range(len(self.Title)):\n",
    "            self.brace_in_data ={}\n",
    "            self.brace_in_data['title'] = self.Title['title'][i]\n",
    "            self.brace_in_data['paragraphs'] = []                              \n",
    "            for j in range(len(self.Context)):\n",
    "                if self.Title['tid'][i] == self.Context['tid'][j]:\n",
    "                    brace_in_paragaraphs = {}\n",
    "                    brace_in_paragaraphs['context'] =    #add\n",
    "                    brace_in_paragaraphs['qas'] =        #add    \n",
    "                    for k in  range(len(self.QandA)):\n",
    "                        if self.Context['cid'][j] == self.QandA['cid'][k] and self.Title['tid'][i] == self.QandA['tid'][k]:\n",
    "                            brace_in_qas = {}\n",
    "                            brace_in_qas['question'] = self.QandA['question'][k]\n",
    "                            brace_in_qas['id'] = qid\n",
    "                            loc = self.get_loc(self.QandA['answer'][k], self.Context['context'][j])\n",
    "                            if loc == -1:\n",
    "                                brace_in_qas['answer'] =[] \n",
    "                                brace_in_qas['is_impossible'] = True\n",
    "                            else:\n",
    "                                brace_in_qas['answer'] =[{'text':self.QandA['answer'][k], 'answer_start':loc}]\n",
    "                                brace_in_qas['is_impossible'] = False\n",
    "                            qid +=1                                   \n",
    "                            brace_in_paragaraphs['qas'].append() # add\n",
    "                    self.brace_in_data['paragraphs'].append(brace_in_paragaraphs)\n",
    "            self.final_json['data'].append(self.brace_in_data)        \n",
    "                    \n",
    "    def save_json(self, filename):\n",
    "        with open(f\"../source_code/data/{filename}.json\", \"w\") as write_file:\n",
    "            json.dump(self.final_json, write_file, indent=4)\n",
    "            print(\"dataset saved in SQauD json format ....\")\n",
    "    \n",
    "\n",
    "path = '../source_code/data/exercise.xlsx' \n",
    "Obj = MakeDataset(path)\n",
    "Obj.csv_reader()\n",
    "Obj.make_json()"
   ]
  },
  {
   "cell_type": "markdown",
   "id": "0db96536",
   "metadata": {},
   "source": [
    "**Save `exercise.json`**"
   ]
  },
  {
   "cell_type": "code",
   "execution_count": null,
   "id": "1006b649",
   "metadata": {},
   "outputs": [],
   "source": [
    "save_filename = 'exercise.json' \n",
    "\n",
    "## Add call to save_json function\n",
    "\n",
    "Obj.final_json"
   ]
  },
  {
   "cell_type": "markdown",
   "id": "3c9fa540",
   "metadata": {},
   "source": [
    "### Exercise 4\n",
    "\n",
    "Use of T5-Base model to generate question ansewer from `exercise.csv`.\n",
    "\n",
    "**Step 1:** Load the CSV file and add model"
   ]
  },
  {
   "cell_type": "code",
   "execution_count": null,
   "id": "9804deea",
   "metadata": {},
   "outputs": [],
   "source": [
    "import pandas as pd\n",
    "\n",
    "input_file_path = '../source_code/data/exercise.csv'\n",
    "cv_file =  #add code\n",
    "\n",
    "cv_file.head()"
   ]
  },
  {
   "cell_type": "code",
   "execution_count": null,
   "id": "e9d4d58d",
   "metadata": {},
   "outputs": [],
   "source": [
    "%cd question_generation"
   ]
  },
  {
   "cell_type": "code",
   "execution_count": null,
   "id": "b623e52d",
   "metadata": {},
   "outputs": [],
   "source": [
    "# add model\n",
    "from pipelines import pipeline\n",
    "\n",
    "nlp = pipeline()  #add model to this line"
   ]
  },
  {
   "cell_type": "markdown",
   "id": "172aa97e",
   "metadata": {},
   "source": [
    "**Step 2:** Write functions to generate SQuAD json format"
   ]
  },
  {
   "cell_type": "code",
   "execution_count": null,
   "id": "ce2eceae",
   "metadata": {},
   "outputs": [],
   "source": [
    "# You are free to modify or rewrite the code from scatch  \n",
    "\n",
    "import json\n",
    "import csv\n",
    "import re, os\n",
    "\n",
    "def get_loc(answer, content):\n",
    "    # complete the code\n",
    "    \n",
    "\n",
    "def make_json(qa, context):\n",
    "    qid = 1\n",
    "    final_json = {}\n",
    "    final_json['version'] = \"v2.0\"\n",
    "    final_json['data'] = []\n",
    "    brace_in_data ={}\n",
    "    \n",
    "    brace_in_data['paragraphs'] = []\n",
    "    for j in range(len(context)):\n",
    "        brace_in_paragaraphs = {}\n",
    "        brace_in_paragaraphs['qas'] = []    \n",
    "        for row in qa[j]:\n",
    "            brace_in_qas = {}\n",
    "            #for row in rows:                \n",
    "            brace_in_qas['question'] = row['question']\n",
    "            brace_in_qas['id'] = qid\n",
    "            loc = get_loc(str(row['answer']), str(context[j]))\n",
    "            if loc == -1:\n",
    "                brace_in_qas['answer'] =[] \n",
    "                brace_in_qas['is_impossible'] = True\n",
    "            else:\n",
    "                brace_in_qas['answer'] =[{'text':row['answer'], 'answer_start':loc}]\n",
    "                brace_in_qas['is_impossible'] = False\n",
    "            qid +=1\n",
    "            brace_in_paragaraphs['qas'].append()  # add missing variable\n",
    "        brace_in_paragaraphs['context'] = context[j]\n",
    "        brace_in_data['paragraphs'].append()  # add missing variable\n",
    "    final_json['data'].append() # add missing variable\n",
    "    \n",
    "    return final_json"
   ]
  },
  {
   "cell_type": "markdown",
   "id": "62717a91",
   "metadata": {},
   "source": [
    "**Extract question and answer and make json file**"
   ]
  },
  {
   "cell_type": "code",
   "execution_count": null,
   "id": "6d60bb1b",
   "metadata": {},
   "outputs": [],
   "source": [
    "qa = []\n",
    "for row in cv_file['document_text']:\n",
    "    qa.append(nlp(row))\n",
    "\n",
    "json_data = make_json(qa, cv_file['document_text'])\n",
    "json_data"
   ]
  },
  {
   "cell_type": "markdown",
   "id": "9fb5e6d1",
   "metadata": {},
   "source": [
    "---\n",
    "## Licensing\n",
    "\n",
    "Copyright © 2022 OpenACC-Standard.org. This material is released by OpenACC-Standard.org, in collaboration with NVIDIA Corporation, under the Creative Commons Attribution 4.0 International (CC BY 4.0). These materials include references to hardware and software developed by other entities; all applicable licensing and copyrights apply."
   ]
  },
  {
   "cell_type": "markdown",
   "id": "dda37196",
   "metadata": {},
   "source": [
    "<div>\n",
    "    <span style=\"float: left; width: 33%; text-align: left;\"><a href=\"QandA_data_processing.ipynb\">Previous Notebook</a></span>\n",
    "    <span style=\"float: left; width: 33%; text-align: center;\">\n",
    "        <a href=\"Overview.ipynb\">1</a>\n",
    "        <a href=\"General_preprocessing.ipynb\">2</a>\n",
    "        <a href=\"QandA_data_processing.ipynb\">3</a>\n",
    "        <a >4</a>\n",
    "        <a href=\"Summary.ipynb\">5</a>\n",
    "    </span>\n",
    "    <span style=\"float: left; width: 33%; text-align: right;\"><a href=\"Summary.ipynb\">Next Notebook</a></span>\n",
    "</div>\n",
    "\n",
    "<p> <center> <a href=\"../Start_Here.ipynb\">Home Page</a> </center> </p>"
   ]
  }
 ],
 "metadata": {
  "kernelspec": {
   "display_name": "Python 3",
   "language": "python",
   "name": "python3"
  },
  "language_info": {
   "codemirror_mode": {
    "name": "ipython",
    "version": 3
   },
   "file_extension": ".py",
   "mimetype": "text/x-python",
   "name": "python",
   "nbconvert_exporter": "python",
   "pygments_lexer": "ipython3",
   "version": "3.8.8"
  }
 },
 "nbformat": 4,
 "nbformat_minor": 5
}
